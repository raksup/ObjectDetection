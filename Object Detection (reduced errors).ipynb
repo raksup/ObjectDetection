{
 "cells": [
  {
   "cell_type": "code",
   "execution_count": 1,
   "metadata": {},
   "outputs": [
    {
     "name": "stderr",
     "output_type": "stream",
     "text": [
      "D:\\Python\\lib\\importlib\\_bootstrap.py:219: RuntimeWarning: numpy.ufunc size changed, may indicate binary incompatibility. Expected 192 from C header, got 216 from PyObject\n",
      "  return f(*args, **kwds)\n",
      "D:\\Python\\lib\\importlib\\_bootstrap.py:219: RuntimeWarning: numpy.ufunc size changed, may indicate binary incompatibility. Expected 192 from C header, got 216 from PyObject\n",
      "  return f(*args, **kwds)\n"
     ]
    }
   ],
   "source": [
    "import numpy as np\n",
    "import pandas as pd\n",
    "\n",
    "from sklearn.model_selection import train_test_split\n",
    "from sklearn.metrics import classification_report, accuracy_score\n",
    "from sklearn.preprocessing import StandardScaler\n",
    "\n",
    "import matplotlib.pyplot as plt"
   ]
  },
  {
   "cell_type": "code",
   "execution_count": 2,
   "metadata": {},
   "outputs": [],
   "source": [
    "from tensorflow.keras.models import Sequential\n",
    "from tensorflow.keras.layers import Conv2D, Dense, MaxPool2D, Flatten"
   ]
  },
  {
   "cell_type": "code",
   "execution_count": 3,
   "metadata": {},
   "outputs": [],
   "source": [
    "from tensorflow.keras.datasets import fashion_mnist"
   ]
  },
  {
   "cell_type": "code",
   "execution_count": 18,
   "metadata": {},
   "outputs": [],
   "source": [
    "(X_train, y_train), (X_test, y_test) = fashion_mnist.load_data()"
   ]
  },
  {
   "cell_type": "code",
   "execution_count": 19,
   "metadata": {},
   "outputs": [],
   "source": [
    "from tensorflow.keras.utils import to_categorical"
   ]
  },
  {
   "cell_type": "code",
   "execution_count": 20,
   "metadata": {},
   "outputs": [
    {
     "data": {
      "text/plain": [
       "array([9, 2, 1, ..., 8, 1, 5], dtype=uint8)"
      ]
     },
     "execution_count": 20,
     "metadata": {},
     "output_type": "execute_result"
    }
   ],
   "source": [
    "y_test"
   ]
  },
  {
   "cell_type": "code",
   "execution_count": 21,
   "metadata": {},
   "outputs": [],
   "source": [
    "y_train_categorical = to_categorical(y_train)\n",
    "y_test_categorical = to_categorical(y_test)"
   ]
  },
  {
   "cell_type": "code",
   "execution_count": 22,
   "metadata": {},
   "outputs": [],
   "source": [
    "X_train= X_train.reshape(X_train.shape[0], X_train.shape[1], X_train.shape[2], 1)\n",
    "X_test = X_test.reshape(X_test.shape[0], X_test.shape[1], X_test.shape[2], 1)"
   ]
  },
  {
   "cell_type": "code",
   "execution_count": 23,
   "metadata": {},
   "outputs": [],
   "source": [
    "class_names = ['T-shirt', 'Trouser', 'Pullover', 'Dress', 'Coat', 'Sandal', 'Shirt', 'Sneaker','Bag', 'Ankle boot']"
   ]
  },
  {
   "cell_type": "code",
   "execution_count": 30,
   "metadata": {},
   "outputs": [],
   "source": [
    "cnn = Sequential()\n",
    "\n",
    "#Block 1\n",
    "cnn.add(Conv2D(input_shape=(28,28, 1), activation = 'relu', kernel_size = (3,3), filters=3))#kernal = size of the filter\n",
    "cnn.add(Conv2D(activation = 'relu', kernel_size = (3,3), filters=6))\n",
    "cnn.add(MaxPool2D())\n",
    "\n",
    "#Block 2\n",
    "cnn.add(Conv2D(activation = 'relu', kernel_size = (3,3), filters=12))\n",
    "cnn.add(Conv2D(activation = 'relu', kernel_size = (3,3), filters=16))\n",
    "cnn.add(MaxPool2D())\n",
    "\n",
    "#Fully Connected Block\n",
    "cnn.add(Flatten())\n",
    "\n",
    "cnn.add(Dense(activation='relu', units = 64))\n",
    "cnn.add(Dense(activation='relu', units = 32))\n",
    "cnn.add(Dense(activation='softmax', units = 10))\n",
    "\n",
    "cnn.compile(loss='categorical_crossentropy', metrics = ['accuracy'], optimizer = 'adam')"
   ]
  },
  {
   "cell_type": "code",
   "execution_count": 33,
   "metadata": {
    "scrolled": false
   },
   "outputs": [
    {
     "name": "stdout",
     "output_type": "stream",
     "text": [
      "Train on 48000 samples, validate on 12000 samples\n",
      "Epoch 1/10\n",
      "48000/48000 [==============================] - 34s 706us/sample - loss: 0.1826 - accuracy: 0.9313 - val_loss: 0.3471 - val_accuracy: 0.8893\n",
      "Epoch 2/10\n",
      "48000/48000 [==============================] - 34s 704us/sample - loss: 0.1752 - accuracy: 0.9339 - val_loss: 0.3748 - val_accuracy: 0.8793\n",
      "Epoch 3/10\n",
      "48000/48000 [==============================] - 34s 706us/sample - loss: 0.1736 - accuracy: 0.9338 - val_loss: 0.3506 - val_accuracy: 0.8907\n",
      "Epoch 4/10\n",
      "48000/48000 [==============================] - 34s 698us/sample - loss: 0.1710 - accuracy: 0.9349 - val_loss: 0.3581 - val_accuracy: 0.8867\n",
      "Epoch 5/10\n",
      "48000/48000 [==============================] - 34s 706us/sample - loss: 0.1637 - accuracy: 0.9382 - val_loss: 0.3485 - val_accuracy: 0.8881\n",
      "Epoch 6/10\n",
      "48000/48000 [==============================] - 33s 695us/sample - loss: 0.1658 - accuracy: 0.9371 - val_loss: 0.3554 - val_accuracy: 0.8859\n",
      "Epoch 7/10\n",
      "48000/48000 [==============================] - 34s 713us/sample - loss: 0.1584 - accuracy: 0.9405 - val_loss: 0.3689 - val_accuracy: 0.8875\n",
      "Epoch 8/10\n",
      "48000/48000 [==============================] - 34s 700us/sample - loss: 0.1536 - accuracy: 0.9422 - val_loss: 0.3908 - val_accuracy: 0.8872\n",
      "Epoch 9/10\n",
      "48000/48000 [==============================] - 34s 718us/sample - loss: 0.1523 - accuracy: 0.9428 - val_loss: 0.3612 - val_accuracy: 0.8907\n",
      "Epoch 10/10\n",
      "48000/48000 [==============================] - 34s 711us/sample - loss: 0.1518 - accuracy: 0.9432 - val_loss: 0.3812 - val_accuracy: 0.8871\n"
     ]
    },
    {
     "data": {
      "text/plain": [
       "<tensorflow.python.keras.callbacks.History at 0x189defaba58>"
      ]
     },
     "execution_count": 33,
     "metadata": {},
     "output_type": "execute_result"
    }
   ],
   "source": [
    "cnn.fit(X_train, y_train_categorical, batch_size= 50, epochs=10, validation_split=0.2)"
   ]
  },
  {
   "cell_type": "code",
   "execution_count": 38,
   "metadata": {},
   "outputs": [],
   "source": [
    "y_pred = cnn.predict(X_test)"
   ]
  },
  {
   "cell_type": "code",
   "execution_count": 39,
   "metadata": {},
   "outputs": [],
   "source": [
    "y_pred_class = np.argmax(y_pred)"
   ]
  },
  {
   "cell_type": "code",
   "execution_count": 40,
   "metadata": {},
   "outputs": [
    {
     "data": {
      "image/png": "[encoded data removed]",
      "text/plain": [
       "<Figure size 1152x720 with 40 Axes>"
      ]
     },
     "metadata": {},
     "output_type": "display_data"
    }
   ],
   "source": [
    "def plot_image(i, y_pred, y_test_class, img):\n",
    "    y_pred, y_test_class, img = y_pred[i], y_test_class[i], img[i]\n",
    "    plt.grid(False)\n",
    "    plt.xticks([])\n",
    "    plt.yticks([])\n",
    "\n",
    "    plt.imshow(img, cmap=plt.cm.binary)\n",
    "\n",
    "    predicted_label = np.argmax(y_pred)\n",
    "    if predicted_label == y_test_class:\n",
    "        color = 'blue'\n",
    "    else:\n",
    "        color = 'red'\n",
    "\n",
    "    plt.xlabel(\"{} {:2.0f}% ({})\".format(class_names[predicted_label],\n",
    "                                100*np.max(y_pred),\n",
    "                                class_names[y_test_class]),\n",
    "                                color=color)\n",
    "\n",
    "    \n",
    "num_rows = 5\n",
    "num_cols = 8\n",
    "num_images = num_rows*num_cols\n",
    "plt.figure(figsize=(2*num_cols, 2*num_rows))\n",
    "for i in range(num_images):\n",
    "    plt.subplot(num_rows, num_cols, i+1)\n",
    "    plot_image(i, y_pred, y_test, X_test.reshape(10000, 28, 28))\n",
    "plt.show()   "
   ]
  },
  {
   "cell_type": "code",
   "execution_count": 112,
   "metadata": {},
   "outputs": [],
   "source": [
    "data = pd.read_csv('Admission_Predict.csv')"
   ]
  },
  {
   "cell_type": "code",
   "execution_count": 113,
   "metadata": {},
   "outputs": [
    {
     "data": {
      "text/html": [
       "<div>\n",
       "<style scoped>\n",
       "    .dataframe tbody tr th:only-of-type {\n",
       "        vertical-align: middle;\n",
       "    }\n",
       "\n",
       "    .dataframe tbody tr th {\n",
       "        vertical-align: top;\n",
       "    }\n",
       "\n",
       "    .dataframe thead th {\n",
       "        text-align: right;\n",
       "    }\n",
       "</style>\n",
       "<table border=\"1\" class=\"dataframe\">\n",
       "  <thead>\n",
       "    <tr style=\"text-align: right;\">\n",
       "      <th></th>\n",
       "      <th>Serial No.</th>\n",
       "      <th>GRE Score</th>\n",
       "      <th>TOEFL Score</th>\n",
       "      <th>University Rating</th>\n",
       "      <th>SOP</th>\n",
       "      <th>LOR</th>\n",
       "      <th>CGPA</th>\n",
       "      <th>Research</th>\n",
       "      <th>Chance of Admit</th>\n",
       "    </tr>\n",
       "  </thead>\n",
       "  <tbody>\n",
       "    <tr>\n",
       "      <th>0</th>\n",
       "      <td>1</td>\n",
       "      <td>337</td>\n",
       "      <td>118</td>\n",
       "      <td>4</td>\n",
       "      <td>4.5</td>\n",
       "      <td>4.5</td>\n",
       "      <td>9.65</td>\n",
       "      <td>1</td>\n",
       "      <td>0.92</td>\n",
       "    </tr>\n",
       "    <tr>\n",
       "      <th>1</th>\n",
       "      <td>2</td>\n",
       "      <td>324</td>\n",
       "      <td>107</td>\n",
       "      <td>4</td>\n",
       "      <td>4.0</td>\n",
       "      <td>4.5</td>\n",
       "      <td>8.87</td>\n",
       "      <td>1</td>\n",
       "      <td>0.76</td>\n",
       "    </tr>\n",
       "    <tr>\n",
       "      <th>2</th>\n",
       "      <td>3</td>\n",
       "      <td>316</td>\n",
       "      <td>104</td>\n",
       "      <td>3</td>\n",
       "      <td>3.0</td>\n",
       "      <td>3.5</td>\n",
       "      <td>8.00</td>\n",
       "      <td>1</td>\n",
       "      <td>0.72</td>\n",
       "    </tr>\n",
       "    <tr>\n",
       "      <th>3</th>\n",
       "      <td>4</td>\n",
       "      <td>322</td>\n",
       "      <td>110</td>\n",
       "      <td>3</td>\n",
       "      <td>3.5</td>\n",
       "      <td>2.5</td>\n",
       "      <td>8.67</td>\n",
       "      <td>1</td>\n",
       "      <td>0.80</td>\n",
       "    </tr>\n",
       "    <tr>\n",
       "      <th>4</th>\n",
       "      <td>5</td>\n",
       "      <td>314</td>\n",
       "      <td>103</td>\n",
       "      <td>2</td>\n",
       "      <td>2.0</td>\n",
       "      <td>3.0</td>\n",
       "      <td>8.21</td>\n",
       "      <td>0</td>\n",
       "      <td>0.65</td>\n",
       "    </tr>\n",
       "  </tbody>\n",
       "</table>\n",
       "</div>"
      ],
      "text/plain": [
       "   Serial No.  GRE Score  TOEFL Score  University Rating  SOP  LOR   CGPA  \\\n",
       "0           1        337          118                  4  4.5   4.5  9.65   \n",
       "1           2        324          107                  4  4.0   4.5  8.87   \n",
       "2           3        316          104                  3  3.0   3.5  8.00   \n",
       "3           4        322          110                  3  3.5   2.5  8.67   \n",
       "4           5        314          103                  2  2.0   3.0  8.21   \n",
       "\n",
       "   Research  Chance of Admit   \n",
       "0         1              0.92  \n",
       "1         1              0.76  \n",
       "2         1              0.72  \n",
       "3         1              0.80  \n",
       "4         0              0.65  "
      ]
     },
     "execution_count": 113,
     "metadata": {},
     "output_type": "execute_result"
    }
   ],
   "source": [
    "data.head()"
   ]
  },
  {
   "cell_type": "code",
   "execution_count": 114,
   "metadata": {},
   "outputs": [],
   "source": [
    "data.drop('Serial No.', axis =1, inplace=True)"
   ]
  },
  {
   "cell_type": "code",
   "execution_count": 115,
   "metadata": {},
   "outputs": [],
   "source": [
    "y = data['Chance of Admit ']\n",
    "X = data.drop('Chance of Admit ', axis =1)"
   ]
  },
  {
   "cell_type": "code",
   "execution_count": 116,
   "metadata": {},
   "outputs": [],
   "source": [
    "scaler = StandardScaler()"
   ]
  },
  {
   "cell_type": "code",
   "execution_count": 117,
   "metadata": {},
   "outputs": [
    {
     "name": "stderr",
     "output_type": "stream",
     "text": [
      "D:\\Python\\lib\\site-packages\\sklearn\\preprocessing\\data.py:645: DataConversionWarning: Data with input dtype int64, float64 were all converted to float64 by StandardScaler.\n",
      "  return self.partial_fit(X, y)\n",
      "D:\\Python\\lib\\site-packages\\sklearn\\base.py:464: DataConversionWarning: Data with input dtype int64, float64 were all converted to float64 by StandardScaler.\n",
      "  return self.fit(X, **fit_params).transform(X)\n"
     ]
    }
   ],
   "source": [
    "X = scaler.fit_transform(X)"
   ]
  },
  {
   "cell_type": "code",
   "execution_count": 118,
   "metadata": {},
   "outputs": [],
   "source": [
    "X_train, X_test, y_train, y_test = train_test_split(X,y)"
   ]
  },
  {
   "cell_type": "code",
   "execution_count": 119,
   "metadata": {},
   "outputs": [
    {
     "data": {
      "text/plain": [
       "(300, 7)"
      ]
     },
     "execution_count": 119,
     "metadata": {},
     "output_type": "execute_result"
    }
   ],
   "source": [
    "X_train.shape"
   ]
  },
  {
   "cell_type": "code",
   "execution_count": 120,
   "metadata": {},
   "outputs": [],
   "source": [
    "model = Sequential()\n",
    "\n",
    "model.add(Dense(units=32, activation='relu', input_shape=(7,)))\n",
    "\n",
    "model.add(Dense(units=16, activation='relu'))\n",
    "\n",
    "model.add(Dense(units=16, activation='relu'))\n",
    "\n",
    "model.add(Dense(units=8, activation='relu'))\n",
    "\n",
    "model.add(Dense(units=1, activation='relu'))\n",
    "\n",
    "model.compile(loss='mean_absolute_error', metrics=['mse'], optimizer = 'adam')"
   ]
  },
  {
   "cell_type": "code",
   "execution_count": 121,
   "metadata": {},
   "outputs": [
    {
     "name": "stdout",
     "output_type": "stream",
     "text": [
      "Model: \"sequential_9\"\n",
      "_________________________________________________________________\n",
      "Layer (type)                 Output Shape              Param #   \n",
      "=================================================================\n",
      "dense_30 (Dense)             (None, 32)                256       \n",
      "_________________________________________________________________\n",
      "dense_31 (Dense)             (None, 16)                528       \n",
      "_________________________________________________________________\n",
      "dense_32 (Dense)             (None, 16)                272       \n",
      "_________________________________________________________________\n",
      "dense_33 (Dense)             (None, 8)                 136       \n",
      "_________________________________________________________________\n",
      "dense_34 (Dense)             (None, 1)                 9         \n",
      "=================================================================\n",
      "Total params: 1,201\n",
      "Trainable params: 1,201\n",
      "Non-trainable params: 0\n",
      "_________________________________________________________________\n"
     ]
    }
   ],
   "source": [
    "model.summary()"
   ]
  },
  {
   "cell_type": "code",
   "execution_count": 122,
   "metadata": {
    "scrolled": true
   },
   "outputs": [
    {
     "name": "stdout",
     "output_type": "stream",
     "text": [
      "Train on 240 samples, validate on 60 samples\n",
      "Epoch 1/100\n",
      "240/240 [==============================] - 0s 2ms/sample - loss: 0.3314 - mse: 0.1527 - val_loss: 0.2835 - val_mse: 0.1151\n",
      "Epoch 2/100\n",
      "240/240 [==============================] - 0s 129us/sample - loss: 0.2529 - mse: 0.0967 - val_loss: 0.2281 - val_mse: 0.0802\n",
      "Epoch 3/100\n",
      "240/240 [==============================] - 0s 96us/sample - loss: 0.2184 - mse: 0.0738 - val_loss: 0.1912 - val_mse: 0.0568\n",
      "Epoch 4/100\n",
      "240/240 [==============================] - 0s 82us/sample - loss: 0.1854 - mse: 0.0550 - val_loss: 0.1710 - val_mse: 0.0424\n",
      "Epoch 5/100\n",
      "240/240 [==============================] - 0s 113us/sample - loss: 0.1578 - mse: 0.0392 - val_loss: 0.1540 - val_mse: 0.0334\n",
      "Epoch 6/100\n",
      "240/240 [==============================] - 0s 116us/sample - loss: 0.1364 - mse: 0.0298 - val_loss: 0.1334 - val_mse: 0.0267\n",
      "Epoch 7/100\n",
      "240/240 [==============================] - 0s 125us/sample - loss: 0.1216 - mse: 0.0240 - val_loss: 0.1242 - val_mse: 0.0244\n",
      "Epoch 8/100\n",
      "240/240 [==============================] - 0s 104us/sample - loss: 0.1118 - mse: 0.0204 - val_loss: 0.1058 - val_mse: 0.0180\n",
      "Epoch 9/100\n",
      "240/240 [==============================] - 0s 116us/sample - loss: 0.1035 - mse: 0.0178 - val_loss: 0.0976 - val_mse: 0.0154\n",
      "Epoch 10/100\n",
      "240/240 [==============================] - 0s 108us/sample - loss: 0.0948 - mse: 0.0149 - val_loss: 0.0959 - val_mse: 0.0147\n",
      "Epoch 11/100\n",
      "240/240 [==============================] - 0s 129us/sample - loss: 0.0874 - mse: 0.0129 - val_loss: 0.0904 - val_mse: 0.0126\n",
      "Epoch 12/100\n",
      "240/240 [==============================] - 0s 130us/sample - loss: 0.0842 - mse: 0.0120 - val_loss: 0.0864 - val_mse: 0.0126\n",
      "Epoch 13/100\n",
      "240/240 [==============================] - 0s 112us/sample - loss: 0.0789 - mse: 0.0110 - val_loss: 0.0777 - val_mse: 0.0107\n",
      "Epoch 14/100\n",
      "240/240 [==============================] - 0s 108us/sample - loss: 0.0752 - mse: 0.0101 - val_loss: 0.0747 - val_mse: 0.0100\n",
      "Epoch 15/100\n",
      "240/240 [==============================] - 0s 133us/sample - loss: 0.0680 - mse: 0.0086 - val_loss: 0.0722 - val_mse: 0.0095\n",
      "Epoch 16/100\n",
      "240/240 [==============================] - 0s 121us/sample - loss: 0.0642 - mse: 0.0078 - val_loss: 0.0675 - val_mse: 0.0085\n",
      "Epoch 17/100\n",
      "240/240 [==============================] - 0s 137us/sample - loss: 0.0617 - mse: 0.0073 - val_loss: 0.0652 - val_mse: 0.0080\n",
      "Epoch 18/100\n",
      "240/240 [==============================] - 0s 112us/sample - loss: 0.0597 - mse: 0.0068 - val_loss: 0.0626 - val_mse: 0.0080\n",
      "Epoch 19/100\n",
      "240/240 [==============================] - 0s 104us/sample - loss: 0.0578 - mse: 0.0065 - val_loss: 0.0619 - val_mse: 0.0078\n",
      "Epoch 20/100\n",
      "240/240 [==============================] - 0s 125us/sample - loss: 0.0542 - mse: 0.0061 - val_loss: 0.0608 - val_mse: 0.0071\n",
      "Epoch 21/100\n",
      "240/240 [==============================] - 0s 126us/sample - loss: 0.0530 - mse: 0.0057 - val_loss: 0.0560 - val_mse: 0.0064\n",
      "Epoch 22/100\n",
      "240/240 [==============================] - 0s 116us/sample - loss: 0.0501 - mse: 0.0055 - val_loss: 0.0551 - val_mse: 0.0061\n",
      "Epoch 23/100\n",
      "240/240 [==============================] - 0s 110us/sample - loss: 0.0496 - mse: 0.0053 - val_loss: 0.0533 - val_mse: 0.0061\n",
      "Epoch 24/100\n",
      "240/240 [==============================] - 0s 87us/sample - loss: 0.0471 - mse: 0.0050 - val_loss: 0.0518 - val_mse: 0.0059\n",
      "Epoch 25/100\n",
      "240/240 [==============================] - 0s 96us/sample - loss: 0.0456 - mse: 0.0048 - val_loss: 0.0522 - val_mse: 0.0058\n",
      "Epoch 26/100\n",
      "240/240 [==============================] - 0s 100us/sample - loss: 0.0457 - mse: 0.0047 - val_loss: 0.0513 - val_mse: 0.0057\n",
      "Epoch 27/100\n",
      "240/240 [==============================] - 0s 104us/sample - loss: 0.0442 - mse: 0.0045 - val_loss: 0.0496 - val_mse: 0.0054\n",
      "Epoch 28/100\n",
      "240/240 [==============================] - 0s 99us/sample - loss: 0.0440 - mse: 0.0044 - val_loss: 0.0492 - val_mse: 0.0052\n",
      "Epoch 29/100\n",
      "240/240 [==============================] - 0s 91us/sample - loss: 0.0447 - mse: 0.0043 - val_loss: 0.0543 - val_mse: 0.0059\n",
      "Epoch 30/100\n",
      "240/240 [==============================] - 0s 92us/sample - loss: 0.0446 - mse: 0.0042 - val_loss: 0.0493 - val_mse: 0.0052\n",
      "Epoch 31/100\n",
      "240/240 [==============================] - 0s 100us/sample - loss: 0.0417 - mse: 0.0039 - val_loss: 0.0494 - val_mse: 0.0049\n",
      "Epoch 32/100\n",
      "240/240 [==============================] - 0s 108us/sample - loss: 0.0439 - mse: 0.0040 - val_loss: 0.0473 - val_mse: 0.0047\n",
      "Epoch 33/100\n",
      "240/240 [==============================] - 0s 92us/sample - loss: 0.0419 - mse: 0.0038 - val_loss: 0.0499 - val_mse: 0.0052\n",
      "Epoch 34/100\n",
      "240/240 [==============================] - 0s 91us/sample - loss: 0.0400 - mse: 0.0037 - val_loss: 0.0529 - val_mse: 0.0054\n",
      "Epoch 35/100\n",
      "240/240 [==============================] - 0s 91us/sample - loss: 0.0406 - mse: 0.0036 - val_loss: 0.0482 - val_mse: 0.0047\n",
      "Epoch 36/100\n",
      "240/240 [==============================] - 0s 100us/sample - loss: 0.0390 - mse: 0.0035 - val_loss: 0.0470 - val_mse: 0.0047\n",
      "Epoch 37/100\n",
      "240/240 [==============================] - 0s 96us/sample - loss: 0.0379 - mse: 0.0034 - val_loss: 0.0492 - val_mse: 0.0049\n",
      "Epoch 38/100\n",
      "240/240 [==============================] - 0s 100us/sample - loss: 0.0385 - mse: 0.0034 - val_loss: 0.0474 - val_mse: 0.0046\n",
      "Epoch 39/100\n",
      "240/240 [==============================] - 0s 91us/sample - loss: 0.0370 - mse: 0.0033 - val_loss: 0.0467 - val_mse: 0.0047\n",
      "Epoch 40/100\n",
      "240/240 [==============================] - 0s 96us/sample - loss: 0.0369 - mse: 0.0033 - val_loss: 0.0491 - val_mse: 0.0047\n",
      "Epoch 41/100\n",
      "240/240 [==============================] - 0s 96us/sample - loss: 0.0373 - mse: 0.0032 - val_loss: 0.0474 - val_mse: 0.0044\n",
      "Epoch 42/100\n",
      "240/240 [==============================] - 0s 91us/sample - loss: 0.0361 - mse: 0.0032 - val_loss: 0.0468 - val_mse: 0.0045\n",
      "Epoch 43/100\n",
      "240/240 [==============================] - 0s 100us/sample - loss: 0.0364 - mse: 0.0031 - val_loss: 0.0474 - val_mse: 0.0047\n",
      "Epoch 44/100\n",
      "240/240 [==============================] - 0s 93us/sample - loss: 0.0350 - mse: 0.0031 - val_loss: 0.0470 - val_mse: 0.0042\n",
      "Epoch 45/100\n",
      "240/240 [==============================] - 0s 87us/sample - loss: 0.0352 - mse: 0.0029 - val_loss: 0.0461 - val_mse: 0.0042\n",
      "Epoch 46/100\n",
      "240/240 [==============================] - 0s 100us/sample - loss: 0.0342 - mse: 0.0029 - val_loss: 0.0485 - val_mse: 0.0047\n",
      "Epoch 47/100\n",
      "240/240 [==============================] - 0s 104us/sample - loss: 0.0351 - mse: 0.0031 - val_loss: 0.0463 - val_mse: 0.0044\n",
      "Epoch 48/100\n",
      "240/240 [==============================] - 0s 91us/sample - loss: 0.0347 - mse: 0.0030 - val_loss: 0.0464 - val_mse: 0.0043\n",
      "Epoch 49/100\n",
      "240/240 [==============================] - 0s 96us/sample - loss: 0.0336 - mse: 0.0028 - val_loss: 0.0474 - val_mse: 0.0045\n",
      "Epoch 50/100\n",
      "240/240 [==============================] - 0s 107us/sample - loss: 0.0346 - mse: 0.0029 - val_loss: 0.0474 - val_mse: 0.0044\n",
      "Epoch 51/100\n",
      "240/240 [==============================] - 0s 91us/sample - loss: 0.0373 - mse: 0.0031 - val_loss: 0.0482 - val_mse: 0.0044\n",
      "Epoch 52/100\n",
      "240/240 [==============================] - 0s 100us/sample - loss: 0.0380 - mse: 0.0030 - val_loss: 0.0469 - val_mse: 0.0043\n",
      "Epoch 53/100\n",
      "240/240 [==============================] - 0s 100us/sample - loss: 0.0360 - mse: 0.0029 - val_loss: 0.0498 - val_mse: 0.0048\n",
      "Epoch 54/100\n",
      "240/240 [==============================] - 0s 116us/sample - loss: 0.0342 - mse: 0.0028 - val_loss: 0.0498 - val_mse: 0.0047\n",
      "Epoch 55/100\n",
      "240/240 [==============================] - 0s 91us/sample - loss: 0.0325 - mse: 0.0027 - val_loss: 0.0479 - val_mse: 0.0045\n",
      "Epoch 56/100\n",
      "240/240 [==============================] - 0s 91us/sample - loss: 0.0321 - mse: 0.0027 - val_loss: 0.0464 - val_mse: 0.0043\n",
      "Epoch 57/100\n",
      "240/240 [==============================] - 0s 95us/sample - loss: 0.0311 - mse: 0.0026 - val_loss: 0.0472 - val_mse: 0.0043\n",
      "Epoch 58/100\n",
      "240/240 [==============================] - 0s 96us/sample - loss: 0.0322 - mse: 0.0027 - val_loss: 0.0472 - val_mse: 0.0043\n",
      "Epoch 59/100\n",
      "240/240 [==============================] - 0s 91us/sample - loss: 0.0343 - mse: 0.0026 - val_loss: 0.0457 - val_mse: 0.0042\n",
      "Epoch 60/100\n",
      "240/240 [==============================] - 0s 112us/sample - loss: 0.0314 - mse: 0.0026 - val_loss: 0.0470 - val_mse: 0.0043\n",
      "Epoch 61/100\n",
      "240/240 [==============================] - 0s 113us/sample - loss: 0.0321 - mse: 0.0026 - val_loss: 0.0479 - val_mse: 0.0044\n",
      "Epoch 62/100\n",
      "240/240 [==============================] - 0s 103us/sample - loss: 0.0329 - mse: 0.0026 - val_loss: 0.0498 - val_mse: 0.0046\n",
      "Epoch 63/100\n",
      "240/240 [==============================] - 0s 116us/sample - loss: 0.0311 - mse: 0.0025 - val_loss: 0.0488 - val_mse: 0.0047\n",
      "Epoch 64/100\n",
      "240/240 [==============================] - 0s 108us/sample - loss: 0.0307 - mse: 0.0025 - val_loss: 0.0484 - val_mse: 0.0044\n",
      "Epoch 65/100\n",
      "240/240 [==============================] - 0s 116us/sample - loss: 0.0288 - mse: 0.0023 - val_loss: 0.0471 - val_mse: 0.0041\n",
      "Epoch 66/100\n",
      "240/240 [==============================] - 0s 95us/sample - loss: 0.0301 - mse: 0.0025 - val_loss: 0.0496 - val_mse: 0.0046\n",
      "Epoch 67/100\n",
      "240/240 [==============================] - 0s 97us/sample - loss: 0.0307 - mse: 0.0024 - val_loss: 0.0500 - val_mse: 0.0047\n",
      "Epoch 68/100\n",
      "240/240 [==============================] - 0s 100us/sample - loss: 0.0295 - mse: 0.0024 - val_loss: 0.0486 - val_mse: 0.0046\n",
      "Epoch 69/100\n",
      "240/240 [==============================] - 0s 87us/sample - loss: 0.0299 - mse: 0.0024 - val_loss: 0.0468 - val_mse: 0.0042\n",
      "Epoch 70/100\n",
      "240/240 [==============================] - 0s 133us/sample - loss: 0.0289 - mse: 0.0023 - val_loss: 0.0471 - val_mse: 0.0046\n",
      "Epoch 71/100\n",
      "240/240 [==============================] - 0s 129us/sample - loss: 0.0301 - mse: 0.0024 - val_loss: 0.0489 - val_mse: 0.0045\n",
      "Epoch 72/100\n",
      "240/240 [==============================] - 0s 112us/sample - loss: 0.0284 - mse: 0.0022 - val_loss: 0.0481 - val_mse: 0.0044\n",
      "Epoch 73/100\n",
      "240/240 [==============================] - 0s 112us/sample - loss: 0.0303 - mse: 0.0024 - val_loss: 0.0513 - val_mse: 0.0048\n",
      "Epoch 74/100\n",
      "240/240 [==============================] - 0s 104us/sample - loss: 0.0316 - mse: 0.0023 - val_loss: 0.0489 - val_mse: 0.0045\n",
      "Epoch 75/100\n",
      "240/240 [==============================] - 0s 108us/sample - loss: 0.0298 - mse: 0.0024 - val_loss: 0.0481 - val_mse: 0.0046\n",
      "Epoch 76/100\n",
      "240/240 [==============================] - 0s 107us/sample - loss: 0.0289 - mse: 0.0022 - val_loss: 0.0491 - val_mse: 0.0046\n",
      "Epoch 77/100\n",
      "240/240 [==============================] - 0s 104us/sample - loss: 0.0325 - mse: 0.0025 - val_loss: 0.0489 - val_mse: 0.0044\n",
      "Epoch 78/100\n",
      "240/240 [==============================] - 0s 142us/sample - loss: 0.0309 - mse: 0.0023 - val_loss: 0.0537 - val_mse: 0.0051\n",
      "Epoch 79/100\n",
      "240/240 [==============================] - 0s 121us/sample - loss: 0.0292 - mse: 0.0022 - val_loss: 0.0500 - val_mse: 0.0047\n",
      "Epoch 80/100\n",
      "240/240 [==============================] - 0s 112us/sample - loss: 0.0280 - mse: 0.0022 - val_loss: 0.0516 - val_mse: 0.0050\n",
      "Epoch 81/100\n",
      "240/240 [==============================] - 0s 125us/sample - loss: 0.0270 - mse: 0.0021 - val_loss: 0.0489 - val_mse: 0.0045\n",
      "Epoch 82/100\n",
      "240/240 [==============================] - 0s 104us/sample - loss: 0.0263 - mse: 0.0020 - val_loss: 0.0493 - val_mse: 0.0046\n",
      "Epoch 83/100\n",
      "240/240 [==============================] - 0s 108us/sample - loss: 0.0265 - mse: 0.0021 - val_loss: 0.0491 - val_mse: 0.0045\n",
      "Epoch 84/100\n",
      "240/240 [==============================] - 0s 116us/sample - loss: 0.0264 - mse: 0.0020 - val_loss: 0.0511 - val_mse: 0.0048\n",
      "Epoch 85/100\n",
      "240/240 [==============================] - 0s 116us/sample - loss: 0.0264 - mse: 0.0021 - val_loss: 0.0501 - val_mse: 0.0048\n",
      "Epoch 86/100\n",
      "240/240 [==============================] - 0s 133us/sample - loss: 0.0258 - mse: 0.0020 - val_loss: 0.0507 - val_mse: 0.0045\n",
      "Epoch 87/100\n",
      "240/240 [==============================] - 0s 112us/sample - loss: 0.0262 - mse: 0.0020 - val_loss: 0.0498 - val_mse: 0.0048\n",
      "Epoch 88/100\n",
      "240/240 [==============================] - 0s 121us/sample - loss: 0.0264 - mse: 0.0020 - val_loss: 0.0514 - val_mse: 0.0049\n",
      "Epoch 89/100\n",
      "240/240 [==============================] - 0s 126us/sample - loss: 0.0252 - mse: 0.0019 - val_loss: 0.0503 - val_mse: 0.0048\n",
      "Epoch 90/100\n",
      "240/240 [==============================] - 0s 131us/sample - loss: 0.0267 - mse: 0.0020 - val_loss: 0.0501 - val_mse: 0.0049\n",
      "Epoch 91/100\n",
      "240/240 [==============================] - 0s 125us/sample - loss: 0.0256 - mse: 0.0020 - val_loss: 0.0522 - val_mse: 0.0049\n",
      "Epoch 92/100\n",
      "240/240 [==============================] - 0s 112us/sample - loss: 0.0276 - mse: 0.0020 - val_loss: 0.0509 - val_mse: 0.0050\n",
      "Epoch 93/100\n",
      "240/240 [==============================] - 0s 112us/sample - loss: 0.0276 - mse: 0.0020 - val_loss: 0.0491 - val_mse: 0.0046\n",
      "Epoch 94/100\n",
      "240/240 [==============================] - 0s 116us/sample - loss: 0.0261 - mse: 0.0019 - val_loss: 0.0514 - val_mse: 0.0046\n",
      "Epoch 95/100\n",
      "240/240 [==============================] - 0s 104us/sample - loss: 0.0271 - mse: 0.0020 - val_loss: 0.0507 - val_mse: 0.0052\n",
      "Epoch 96/100\n",
      "240/240 [==============================] - 0s 110us/sample - loss: 0.0276 - mse: 0.0021 - val_loss: 0.0492 - val_mse: 0.0046\n",
      "Epoch 97/100\n",
      "240/240 [==============================] - 0s 120us/sample - loss: 0.0280 - mse: 0.0020 - val_loss: 0.0504 - val_mse: 0.0048\n",
      "Epoch 98/100\n",
      "240/240 [==============================] - 0s 96us/sample - loss: 0.0277 - mse: 0.0020 - val_loss: 0.0517 - val_mse: 0.0050\n",
      "Epoch 99/100\n",
      "240/240 [==============================] - 0s 109us/sample - loss: 0.0296 - mse: 0.0019 - val_loss: 0.0503 - val_mse: 0.0044\n",
      "Epoch 100/100\n",
      "240/240 [==============================] - 0s 112us/sample - loss: 0.0284 - mse: 0.0021 - val_loss: 0.0504 - val_mse: 0.0046\n"
     ]
    },
    {
     "data": {
      "text/plain": [
       "<tensorflow.python.keras.callbacks.History at 0x189da0569e8>"
      ]
     },
     "execution_count": 122,
     "metadata": {},
     "output_type": "execute_result"
    }
   ],
   "source": [
    "model.fit(X_train, y_train, epochs=100, validation_split=0.2)"
   ]
  },
  {
   "cell_type": "code",
   "execution_count": 123,
   "metadata": {},
   "outputs": [],
   "source": [
    "from sklearn.metrics import mean_absolute_error, r2_score"
   ]
  },
  {
   "cell_type": "code",
   "execution_count": 124,
   "metadata": {},
   "outputs": [
    {
     "data": {
      "text/html": [
       "<div>\n",
       "<style scoped>\n",
       "    .dataframe tbody tr th:only-of-type {\n",
       "        vertical-align: middle;\n",
       "    }\n",
       "\n",
       "    .dataframe tbody tr th {\n",
       "        vertical-align: top;\n",
       "    }\n",
       "\n",
       "    .dataframe thead th {\n",
       "        text-align: right;\n",
       "    }\n",
       "</style>\n",
       "<table border=\"1\" class=\"dataframe\">\n",
       "  <thead>\n",
       "    <tr style=\"text-align: right;\">\n",
       "      <th></th>\n",
       "      <th>GRE Score</th>\n",
       "      <th>TOEFL Score</th>\n",
       "      <th>University Rating</th>\n",
       "      <th>SOP</th>\n",
       "      <th>LOR</th>\n",
       "      <th>CGPA</th>\n",
       "      <th>Research</th>\n",
       "      <th>Chance of Admit</th>\n",
       "    </tr>\n",
       "  </thead>\n",
       "  <tbody>\n",
       "    <tr>\n",
       "      <th>0</th>\n",
       "      <td>337</td>\n",
       "      <td>118</td>\n",
       "      <td>4</td>\n",
       "      <td>4.5</td>\n",
       "      <td>4.5</td>\n",
       "      <td>9.65</td>\n",
       "      <td>1</td>\n",
       "      <td>0.92</td>\n",
       "    </tr>\n",
       "  </tbody>\n",
       "</table>\n",
       "</div>"
      ],
      "text/plain": [
       "   GRE Score  TOEFL Score  University Rating  SOP  LOR   CGPA  Research  \\\n",
       "0        337          118                  4  4.5   4.5  9.65         1   \n",
       "\n",
       "   Chance of Admit   \n",
       "0              0.92  "
      ]
     },
     "execution_count": 124,
     "metadata": {},
     "output_type": "execute_result"
    }
   ],
   "source": [
    "data.head(1)"
   ]
  },
  {
   "cell_type": "code",
   "execution_count": 125,
   "metadata": {},
   "outputs": [],
   "source": [
    "y_pred=  model.predict(X_test)"
   ]
  },
  {
   "cell_type": "code",
   "execution_count": 126,
   "metadata": {},
   "outputs": [
    {
     "data": {
      "text/plain": [
       "0.0600249574780464"
      ]
     },
     "execution_count": 126,
     "metadata": {},
     "output_type": "execute_result"
    }
   ],
   "source": [
    "mean_absolute_error(y_test, y_pred)"
   ]
  },
  {
   "cell_type": "code",
   "execution_count": 127,
   "metadata": {},
   "outputs": [
    {
     "data": {
      "text/plain": [
       "0.7238029191720291"
      ]
     },
     "execution_count": 127,
     "metadata": {},
     "output_type": "execute_result"
    }
   ],
   "source": [
    "r2_score(y_test, y_pred)"
   ]
  },
  {
   "cell_type": "code",
   "execution_count": 131,
   "metadata": {},
   "outputs": [],
   "source": [
    "my_data = np.array([[500, 121, 5, 5,5, 10, 1],\n",
    "                  [314, 103, 2, 4.5, 4.5, 6, 0]])"
   ]
  },
  {
   "cell_type": "code",
   "execution_count": 132,
   "metadata": {},
   "outputs": [],
   "source": [
    "my_data = scaler.transform(my_data)"
   ]
  },
  {
   "cell_type": "code",
   "execution_count": 133,
   "metadata": {},
   "outputs": [
    {
     "data": {
      "text/plain": [
       "array([[2.2251475],\n",
       "       [0.691541 ]], dtype=float32)"
      ]
     },
     "execution_count": 133,
     "metadata": {},
     "output_type": "execute_result"
    }
   ],
   "source": [
    "model.predict(my_data)"
   ]
  },
  {
   "cell_type": "code",
   "execution_count": 3,
   "metadata": {},
   "outputs": [],
   "source": [
    "from tensorflow.keras.datasets import cifar10"
   ]
  },
  {
   "cell_type": "code",
   "execution_count": 6,
   "metadata": {},
   "outputs": [],
   "source": [
    "data = cifar10.load_data()"
   ]
  },
  {
   "cell_type": "code",
   "execution_count": 5,
   "metadata": {},
   "outputs": [],
   "source": [
    "from tensorflow.keras.applications import MobileNetV2"
   ]
  },
  {
   "cell_type": "code",
   "execution_count": null,
   "metadata": {},
   "outputs": [],
   "source": []
  }
 ],
 "metadata": {
  "kernelspec": {
   "display_name": "Python 3",
   "language": "python",
   "name": "python3"
  },
  "language_info": {
   "codemirror_mode": {
    "name": "ipython",
    "version": 3
   },
   "file_extension": ".py",
   "mimetype": "text/x-python",
   "name": "python",
   "nbconvert_exporter": "python",
   "pygments_lexer": "ipython3",
   "version": "3.6.0"
  }
 },
 "nbformat": 4,
 "nbformat_minor": 2
}
